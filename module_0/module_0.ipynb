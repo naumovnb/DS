{
 "cells": [
  {
   "cell_type": "code",
   "execution_count": 7,
   "metadata": {},
   "outputs": [
    {
     "name": "stdout",
     "output_type": "stream",
     "text": [
      "Загадано число от 1 до 100\n",
      "Вы угадали число 32 за 6 попыток.\n"
     ]
    }
   ],
   "source": [
    "# автоматически загадываем число из указанного диапазона\n",
    "import numpy as np # импорт модуля numpy\n",
    "count = 0  # счетчик попыток\n",
    "left, right = 1,100  # создаём переменные с граничными значениями диапазона\n",
    "number = np.random.randint(1,101)  # загадали число в указаном диапазоне\n",
    "print (\"Загадано число от 1 до 100\") \n",
    "\n",
    "# бесконечный цикл для угадывания, реализована логика \"Метод деления пополам\" \n",
    "# Идея в том, что c каждой попыткой количество оставшихся возможных чисел \n",
    "# будет сокращаться примерно в два раза.\n",
    "\n",
    "while True: \n",
    "    count += 1 # увеличивыаем счетчик попыток\n",
    "    middle=(right + left)//2  # ищем середину диапазона\n",
    "    if number > middle: # вложенный цикл \n",
    "        left = middle + 1  # новое левое значение диапазона\n",
    "    elif number < middle:\n",
    "        right = middle - 1 # новое правое значение диапазона\n",
    "    else: # условие завершения из цикла\n",
    "        if number == middle: \n",
    "            break                  \n",
    "print (f\"Вы угадали число {number} за {count} попыток.\") #вывод ответа на экран"
   ]
  },
  {
   "cell_type": "code",
   "execution_count": null,
   "metadata": {},
   "outputs": [],
   "source": []
  }
 ],
 "metadata": {
  "kernelspec": {
   "display_name": "Python 3",
   "language": "python",
   "name": "python3"
  },
  "language_info": {
   "codemirror_mode": {
    "name": "ipython",
    "version": 3
   },
   "file_extension": ".py",
   "mimetype": "text/x-python",
   "name": "python",
   "nbconvert_exporter": "python",
   "pygments_lexer": "ipython3",
   "version": "3.8.3"
  }
 },
 "nbformat": 4,
 "nbformat_minor": 4
}
